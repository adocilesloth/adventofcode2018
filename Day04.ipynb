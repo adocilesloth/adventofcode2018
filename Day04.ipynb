{
 "cells": [
  {
   "cell_type": "code",
   "execution_count": 1,
   "metadata": {},
   "outputs": [],
   "source": [
    "import numpy as np\n",
    "from collections import defaultdict"
   ]
  },
  {
   "cell_type": "code",
   "execution_count": 2,
   "metadata": {},
   "outputs": [],
   "source": [
    "test = ['[1518-11-01 00:05] falls asleep',\n",
    "        '[1518-11-01 00:00] Guard #10 begins shift',\n",
    "        '[1518-11-01 00:25] wakes up',\n",
    "        '[1518-11-01 00:30] falls asleep',\n",
    "        '[1518-11-01 00:55] wakes up',\n",
    "        '[1518-11-01 23:58] Guard #99 begins shift',\n",
    "        '[1518-11-02 00:40] falls asleep',\n",
    "        '[1518-11-02 00:50] wakes up',\n",
    "        '[1518-11-03 00:05] Guard #10 begins shift',\n",
    "        '[1518-11-03 00:24] falls asleep',\n",
    "        '[1518-11-03 00:29] wakes up',\n",
    "        '[1518-11-04 00:02] Guard #99 begins shift',\n",
    "        '[1518-11-04 00:36] falls asleep',\n",
    "        '[1518-11-04 00:46] wakes up',\n",
    "        '[1518-11-05 00:03] Guard #99 begins shift',\n",
    "        '[1518-11-05 00:45] falls asleep',\n",
    "        '[1518-11-05 00:55] wakes up']\n",
    "\n",
    "data = np.genfromtxt('day04_input.txt', dtype=str, delimiter='\\n', comments=None)"
   ]
  },
  {
   "cell_type": "code",
   "execution_count": 3,
   "metadata": {},
   "outputs": [
    {
     "name": "stdout",
     "output_type": "stream",
     "text": [
      "Part 1 result: 240\n",
      "Part 2 result: 4455\n",
      "\n",
      "Part 1 result: 38813\n",
      "Part 2 result: 141071\n"
     ]
    },
    {
     "name": "stderr",
     "output_type": "stream",
     "text": [
      "/Users/will/anaconda3/lib/python3.7/site-packages/numpy/core/fromnumeric.py:997: VisibleDeprecationWarning: Creating an ndarray from ragged nested sequences (which is a list-or-tuple of lists-or-tuples-or ndarrays with different lengths or shapes) is deprecated. If you meant to do this, you must specify 'dtype=object' when creating the ndarray.\n",
      "  a = asanyarray(a).copy(order=\"K\")\n"
     ]
    }
   ],
   "source": [
    "def sort_by_date(data):\n",
    "    times = []\n",
    "    for line in data:\n",
    "        split = line.split(' ')\n",
    "        date = split[0][1:]\n",
    "        time = split[1][:-1]\n",
    "        \n",
    "        entry = [date+' '+time]\n",
    "        for i in range(2, len(split)):\n",
    "            entry.append(split[i])\n",
    "        times.append(entry)\n",
    "        \n",
    "    times = np.sort(times, axis=0)\n",
    "    return times\n",
    "\n",
    "def longest_sleep(asleep):\n",
    "    length = 0\n",
    "    time = 0\n",
    "    guard = 0\n",
    "    for key, value in asleep.items():\n",
    "        if len(value) > length:\n",
    "            guard = int(key)\n",
    "            length = len(value)\n",
    "            mint, count = np.unique(value, return_counts=True)\n",
    "            idx = np.argmax(count)\n",
    "            time = mint[idx]\n",
    "    return guard*time\n",
    "    \n",
    "def find_sleeping(data):\n",
    "    asleep = defaultdict(list)\n",
    "    \n",
    "    for line in data:\n",
    "        if line[1] == 'Guard':\n",
    "            guard = line[2][1:]\n",
    "        elif line[1] == 'falls':\n",
    "            date, time = line[0].split(' ')\n",
    "            hour, mint = time.split(':')\n",
    "            start = int(mint)\n",
    "        elif line[1] == 'wakes':\n",
    "            date, time = line[0].split(' ')\n",
    "            hour, mint = time.split(':')\n",
    "            end = int(mint)\n",
    "            for i in range(start, end):\n",
    "                asleep[guard].append(i)\n",
    "    return asleep\n",
    "\n",
    "def most_asleep(asleep):\n",
    "    num_times = 0\n",
    "    time = 0\n",
    "    guard = 0\n",
    "    for key, value in asleep.items():\n",
    "            mint, count = np.unique(value, return_counts=True)\n",
    "            idx = np.argmax(count)\n",
    "            if count[idx] > num_times:\n",
    "                num_times = count[idx]\n",
    "                time = mint[idx]\n",
    "                guard = int(key)\n",
    "    return guard*time\n",
    "\n",
    "def run(data):\n",
    "    data = sort_by_date(data)\n",
    "    asleep = find_sleeping(data)\n",
    "    print('Part 1 result:', longest_sleep(asleep))\n",
    "    print('Part 2 result:', most_asleep(asleep))\n",
    "    \n",
    "run(test)\n",
    "print()\n",
    "run(data)"
   ]
  }
 ],
 "metadata": {
  "kernelspec": {
   "display_name": "Python 3",
   "language": "python",
   "name": "python3"
  },
  "language_info": {
   "codemirror_mode": {
    "name": "ipython",
    "version": 3
   },
   "file_extension": ".py",
   "mimetype": "text/x-python",
   "name": "python",
   "nbconvert_exporter": "python",
   "pygments_lexer": "ipython3",
   "version": "3.7.4"
  }
 },
 "nbformat": 4,
 "nbformat_minor": 2
}
