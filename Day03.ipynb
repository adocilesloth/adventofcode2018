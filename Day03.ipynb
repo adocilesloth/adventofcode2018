{
 "cells": [
  {
   "cell_type": "code",
   "execution_count": 1,
   "metadata": {},
   "outputs": [],
   "source": [
    "import numpy as np\n",
    "from collections import defaultdict"
   ]
  },
  {
   "cell_type": "code",
   "execution_count": 2,
   "metadata": {},
   "outputs": [],
   "source": [
    "test = ['#1 @ 1,3: 4x4',\n",
    "        '#2 @ 3,1: 4x4',\n",
    "        '#3 @ 5,5: 2x2']\n",
    "\n",
    "data = np.genfromtxt('day03_input.txt', dtype=str, delimiter='\\n', comments=None)"
   ]
  },
  {
   "cell_type": "code",
   "execution_count": 3,
   "metadata": {},
   "outputs": [
    {
     "name": "stdout",
     "output_type": "stream",
     "text": [
      "4\n",
      "Part 1 result: 107043\n"
     ]
    }
   ],
   "source": [
    "def get_grid(data):\n",
    "    grid = defaultdict(list)\n",
    "    for line in data:\n",
    "        claim, _, coord, size = line.split(' ')\n",
    "        x, y = coord[:-1].split(',')\n",
    "        x = int(x)\n",
    "        y = int(y)\n",
    "        dx, dy = size.split('x')\n",
    "        dx = int(dx)\n",
    "        dy = int(dy)\n",
    "        \n",
    "        for i in range(0, dx):\n",
    "            for j in range(0, dy):\n",
    "                grid[(x+i,y+j)].append(claim[1:])\n",
    "                \n",
    "    return grid\n",
    "\n",
    "def count_overlap(grid):\n",
    "    count = 0\n",
    "    for key, value in grid.items():\n",
    "        if len(value) > 1:\n",
    "            count += 1\n",
    "    return count\n",
    "\n",
    "test_grid = get_grid(test)\n",
    "print(count_overlap(test_grid))\n",
    "big_grid = get_grid(data)\n",
    "print('Part 1 result:', count_overlap(big_grid))"
   ]
  },
  {
   "cell_type": "code",
   "execution_count": 4,
   "metadata": {},
   "outputs": [
    {
     "name": "stdout",
     "output_type": "stream",
     "text": [
      "3\n",
      "Part 2 result: 346\n"
     ]
    }
   ],
   "source": [
    "def unique(data, grid):\n",
    "    claims = np.arange(1, len(data)+1).astype(str).tolist()\n",
    "    for key, value in grid.items():\n",
    "        if len(value) <= 1:\n",
    "            continue\n",
    "        for i in range(len(claims)-1, -1, -1):\n",
    "            if claims[i] in value:\n",
    "                del claims[i]\n",
    "    if len(claims) == 1:\n",
    "        return claims[0]\n",
    "    return claims\n",
    "\n",
    "print(unique(test, test_grid))\n",
    "print('Part 2 result:', unique(data, big_grid))"
   ]
  },
  {
   "cell_type": "code",
   "execution_count": null,
   "metadata": {},
   "outputs": [],
   "source": []
  }
 ],
 "metadata": {
  "kernelspec": {
   "display_name": "Python 3",
   "language": "python",
   "name": "python3"
  },
  "language_info": {
   "codemirror_mode": {
    "name": "ipython",
    "version": 3
   },
   "file_extension": ".py",
   "mimetype": "text/x-python",
   "name": "python",
   "nbconvert_exporter": "python",
   "pygments_lexer": "ipython3",
   "version": "3.7.4"
  }
 },
 "nbformat": 4,
 "nbformat_minor": 2
}
