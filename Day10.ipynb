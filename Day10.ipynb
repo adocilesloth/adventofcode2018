{
 "cells": [
  {
   "cell_type": "code",
   "execution_count": 1,
   "metadata": {},
   "outputs": [],
   "source": [
    "import numpy as np\n",
    "from copy import deepcopy"
   ]
  },
  {
   "cell_type": "code",
   "execution_count": 2,
   "metadata": {},
   "outputs": [],
   "source": [
    "test = ['position=< 9,  1> velocity=< 0,  2>',\n",
    "        'position=< 7,  0> velocity=<-1,  0>',\n",
    "        'position=< 3, -2> velocity=<-1,  1>',\n",
    "        'position=< 6, 10> velocity=<-2, -1>',\n",
    "        'position=< 2, -4> velocity=< 2,  2>',\n",
    "        'position=<-6, 10> velocity=< 2, -2>',\n",
    "        'position=< 1,  8> velocity=< 1, -1>',\n",
    "        'position=< 1,  7> velocity=< 1,  0>',\n",
    "        'position=<-3, 11> velocity=< 1, -2>',\n",
    "        'position=< 7,  6> velocity=<-1, -1>',\n",
    "        'position=<-2,  3> velocity=< 1,  0>',\n",
    "        'position=<-4,  3> velocity=< 2,  0>',\n",
    "        'position=<10, -3> velocity=<-1,  1>',\n",
    "        'position=< 5, 11> velocity=< 1, -2>',\n",
    "        'position=< 4,  7> velocity=< 0, -1>',\n",
    "        'position=< 8, -2> velocity=< 0,  1>',\n",
    "        'position=<15,  0> velocity=<-2,  0>',\n",
    "        'position=< 1,  6> velocity=< 1,  0>',\n",
    "        'position=< 8,  9> velocity=< 0, -1>',\n",
    "        'position=< 3,  3> velocity=<-1,  1>',\n",
    "        'position=< 0,  5> velocity=< 0, -1>',\n",
    "        'position=<-2,  2> velocity=< 2,  0>',\n",
    "        'position=< 5, -2> velocity=< 1,  2>',\n",
    "        'position=< 1,  4> velocity=< 2,  1>',\n",
    "        'position=<-2,  7> velocity=< 2, -2>',\n",
    "        'position=< 3,  6> velocity=<-1, -1>',\n",
    "        'position=< 5,  0> velocity=< 1,  0>',\n",
    "        'position=<-6,  0> velocity=< 2,  0>',\n",
    "        'position=< 5,  9> velocity=< 1, -2>',\n",
    "        'position=<14,  7> velocity=<-2,  0>',\n",
    "        'position=<-3,  6> velocity=< 2, -1>']"
   ]
  },
  {
   "cell_type": "code",
   "execution_count": 3,
   "metadata": {},
   "outputs": [
    {
     "name": "stdout",
     "output_type": "stream",
     "text": [
      "#...#..###\n",
      "#...#...#.\n",
      "#...#...#.\n",
      "#####...#.\n",
      "#...#...#.\n",
      "#...#...#.\n",
      "#...#...#.\n",
      "#...#..###\n",
      "Part 2 result: 3\n"
     ]
    }
   ],
   "source": [
    "def get_lights(data):\n",
    "    positions = []\n",
    "    velocitys = []\n",
    "    for line in data:\n",
    "        line = line.strip()\n",
    "        start = line.find('<')\n",
    "        end = line.find('>')\n",
    "        part = line[start+1:end]\n",
    "        x, y = part.split(',')\n",
    "        positions.append([int(x), int(y)])\n",
    "        line = line[end+1:]\n",
    "        \n",
    "        start = line.find('<')\n",
    "        end = line.find('>')\n",
    "        part = line[start+1:end]\n",
    "        x, y = part.split(',')\n",
    "        velocitys.append([int(x), int(y)])\n",
    "        \n",
    "    positions = np.array(positions)\n",
    "    velocitys = np.array(velocitys)\n",
    "    \n",
    "    return positions, velocitys\n",
    "\n",
    "def run_lights(positions, velocitys, n):\n",
    "    dx = np.max(positions[:,0])-np.min(positions[:,0])\n",
    "    dy = np.max(positions[:,1])-np.min(positions[:,1])\n",
    "    last_area = dx+dy\n",
    "    target = -1\n",
    "    \n",
    "    for i in range(1, n+1):\n",
    "        positions += velocitys\n",
    "        \n",
    "        dx = np.max(positions[:,0])-np.min(positions[:,0])\n",
    "        dy = np.max(positions[:,1])-np.min(positions[:,1])\n",
    "        area = dx+dy\n",
    "        if area < last_area:\n",
    "            last_area = area\n",
    "            target = i\n",
    "    \n",
    "    for i in range(n-1, target-1, -1):\n",
    "        positions -= velocitys\n",
    "        \n",
    "    top = np.min(positions[:,0])\n",
    "    dx = np.max(positions[:,0])-np.min(positions[:,0])\n",
    "    left = np.min(positions[:,1])\n",
    "    dy = np.max(positions[:,1])-np.min(positions[:,1])\n",
    "    \n",
    "    graph = np.full([dy+1,dx+1], '.', dtype=str)\n",
    "    for position in positions:\n",
    "        graph[position[1]-left,position[0]-top] = '#'\n",
    "    graph = graph\n",
    "    for line in graph:\n",
    "        print(''.join(line))\n",
    "        \n",
    "    print('Part 2 result:', target)\n",
    "        \n",
    "def run(data, n=10):\n",
    "    positions, velocitys = get_lights(data)\n",
    "    run_lights(positions, velocitys, n)\n",
    "    \n",
    "run(test)"
   ]
  },
  {
   "cell_type": "code",
   "execution_count": 4,
   "metadata": {},
   "outputs": [
    {
     "name": "stdout",
     "output_type": "stream",
     "text": [
      "#####...######..######..######...####...#....#..#....#..######\n",
      "#....#..#.......#............#..#....#..##...#..#....#..#.....\n",
      "#....#..#.......#............#..#.......##...#...#..#...#.....\n",
      "#....#..#.......#...........#...#.......#.#..#...#..#...#.....\n",
      "#####...#####...#####......#....#.......#.#..#....##....#####.\n",
      "#....#..#.......#.........#.....#.......#..#.#....##....#.....\n",
      "#....#..#.......#........#......#.......#..#.#...#..#...#.....\n",
      "#....#..#.......#.......#.......#.......#...##...#..#...#.....\n",
      "#....#..#.......#.......#.......#....#..#...##..#....#..#.....\n",
      "#####...#.......#.......######...####...#....#..#....#..######\n",
      "Part 2 result: 10391\n"
     ]
    }
   ],
   "source": [
    "with open('day10_input.txt', 'r') as f:\n",
    "    data = f.readlines()\n",
    "    f.close()\n",
    "    \n",
    "run(data, 20000)"
   ]
  },
  {
   "cell_type": "code",
   "execution_count": null,
   "metadata": {},
   "outputs": [],
   "source": []
  }
 ],
 "metadata": {
  "kernelspec": {
   "display_name": "Python 3",
   "language": "python",
   "name": "python3"
  },
  "language_info": {
   "codemirror_mode": {
    "name": "ipython",
    "version": 3
   },
   "file_extension": ".py",
   "mimetype": "text/x-python",
   "name": "python",
   "nbconvert_exporter": "python",
   "pygments_lexer": "ipython3",
   "version": "3.7.4"
  }
 },
 "nbformat": 4,
 "nbformat_minor": 5
}
