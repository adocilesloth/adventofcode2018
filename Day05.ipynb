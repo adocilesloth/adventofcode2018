{
 "cells": [
  {
   "cell_type": "code",
   "execution_count": 1,
   "metadata": {},
   "outputs": [],
   "source": [
    "import numpy as np\n",
    "from copy import copy"
   ]
  },
  {
   "cell_type": "code",
   "execution_count": 2,
   "metadata": {},
   "outputs": [],
   "source": [
    "test = 'dabAcCaCBAcCcaDA'\n",
    "\n",
    "with open('day05_input.txt', 'r') as f:\n",
    "    data = f.readline()\n",
    "    f.close()\n",
    "data = data.strip()"
   ]
  },
  {
   "cell_type": "code",
   "execution_count": 3,
   "metadata": {},
   "outputs": [
    {
     "name": "stdout",
     "output_type": "stream",
     "text": [
      "10\n",
      "Part 1 result: 10384\n"
     ]
    }
   ],
   "source": [
    "def react(data):    \n",
    "    chains = list('abcdefghijklmnopqrstuvwxyz')\n",
    "    \n",
    "    while True:\n",
    "        for c in chains:\n",
    "            #print(c)\n",
    "            new_data = data.replace(c+c.upper(), '')\n",
    "            if new_data != data:\n",
    "                data = new_data\n",
    "                break\n",
    "            new_data = data.replace(c.upper()+c, '')\n",
    "            if new_data != data:\n",
    "                data = new_data\n",
    "                break\n",
    "            if c == 'z':\n",
    "                return data\n",
    "\n",
    "print(len(react(test)))\n",
    "print('Part 1 result:', len(react(data)))"
   ]
  },
  {
   "cell_type": "code",
   "execution_count": 4,
   "metadata": {},
   "outputs": [
    {
     "name": "stdout",
     "output_type": "stream",
     "text": [
      "4\n",
      "Part 2 result: 5412\n"
     ]
    }
   ],
   "source": [
    "def reduce(data):\n",
    "    smallest = len(react(data))\n",
    "    chains = list('abcdefghijklmnopqrstuvwxyz')\n",
    "    \n",
    "    for c in chains:\n",
    "        c_data = copy(data)\n",
    "        c_data = c_data.replace(c, '')\n",
    "        c_data = c_data.replace(c.upper(), '')\n",
    "        \n",
    "        size = len(react(c_data))\n",
    "        if size < smallest:\n",
    "            smallest = size\n",
    "            \n",
    "    return smallest\n",
    "\n",
    "print(reduce(test))\n",
    "print('Part 2 result:', reduce(data))"
   ]
  },
  {
   "cell_type": "code",
   "execution_count": null,
   "metadata": {},
   "outputs": [],
   "source": []
  }
 ],
 "metadata": {
  "kernelspec": {
   "display_name": "Python 3",
   "language": "python",
   "name": "python3"
  },
  "language_info": {
   "codemirror_mode": {
    "name": "ipython",
    "version": 3
   },
   "file_extension": ".py",
   "mimetype": "text/x-python",
   "name": "python",
   "nbconvert_exporter": "python",
   "pygments_lexer": "ipython3",
   "version": "3.7.4"
  }
 },
 "nbformat": 4,
 "nbformat_minor": 2
}
