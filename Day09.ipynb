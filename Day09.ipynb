{
 "cells": [
  {
   "cell_type": "code",
   "execution_count": 1,
   "id": "bceb37f6",
   "metadata": {},
   "outputs": [],
   "source": [
    "from collections import defaultdict, deque"
   ]
  },
  {
   "cell_type": "code",
   "execution_count": 2,
   "id": "11a2437c",
   "metadata": {},
   "outputs": [],
   "source": [
    "test = ['10 players; last marble is worth 1618 points',\n",
    "        '13 players; last marble is worth 7999 points',\n",
    "        '17 players; last marble is worth 1104 points',\n",
    "        '21 players; last marble is worth 6111 points',\n",
    "        '30 players; last marble is worth 5807 points']"
   ]
  },
  {
   "cell_type": "code",
   "execution_count": 3,
   "id": "efba47dc",
   "metadata": {},
   "outputs": [
    {
     "name": "stdout",
     "output_type": "stream",
     "text": [
      "Part 1 result: 8317\n",
      "Part 1 result: 146373\n",
      "Part 1 result: 2764\n",
      "Part 1 result: 54718\n",
      "Part 1 result: 37305\n"
     ]
    }
   ],
   "source": [
    "def parse(data):\n",
    "    info = data.strip().split()\n",
    "    players = int(info[0])\n",
    "    marbles = int(info[-2])\n",
    "    \n",
    "    return players, marbles\n",
    "\n",
    "def play_game(n_players, n_marbles):\n",
    "    circle = deque([0])\n",
    "    scores = defaultdict(int)\n",
    "    \n",
    "    for marble in range(1, n_marbles+1):\n",
    "        if marble%23 == 0:\n",
    "            circle.rotate(7)\n",
    "            scores[marble%n_players] += marble + circle.pop()\n",
    "            circle.rotate(-1)\n",
    "        else:\n",
    "            circle.rotate(-1)\n",
    "            circle.append(marble)\n",
    "            \n",
    "    return max(scores.values())\n",
    "        \n",
    "def run(data, mult=1):\n",
    "    if mult == 1:\n",
    "        part = 1\n",
    "    else:\n",
    "        part = 2\n",
    "        \n",
    "    for line in data:\n",
    "        players, marbles = parse(line)\n",
    "        score = play_game(players, marbles*mult)\n",
    "        #print(players, 'players; last marble is worth', marbles, 'points: high score is', score)\n",
    "        print('Part', part, 'result:', score)\n",
    "        \n",
    "run(test)"
   ]
  },
  {
   "cell_type": "code",
   "execution_count": 4,
   "id": "28c34678",
   "metadata": {},
   "outputs": [
    {
     "name": "stdout",
     "output_type": "stream",
     "text": [
      "Part 1 result: 425688\n",
      "Part 2 result: 3526561003\n"
     ]
    }
   ],
   "source": [
    "with open('day09_input.txt', 'r') as f:\n",
    "    data = f.readlines()\n",
    "    data = data[:1]\n",
    "    f.close()\n",
    "    \n",
    "run(data)\n",
    "run(data, 100)"
   ]
  },
  {
   "cell_type": "code",
   "execution_count": null,
   "id": "7d9ede82",
   "metadata": {},
   "outputs": [],
   "source": []
  }
 ],
 "metadata": {
  "kernelspec": {
   "display_name": "Python 3",
   "language": "python",
   "name": "python3"
  },
  "language_info": {
   "codemirror_mode": {
    "name": "ipython",
    "version": 3
   },
   "file_extension": ".py",
   "mimetype": "text/x-python",
   "name": "python",
   "nbconvert_exporter": "python",
   "pygments_lexer": "ipython3",
   "version": "3.9.12"
  }
 },
 "nbformat": 4,
 "nbformat_minor": 5
}
