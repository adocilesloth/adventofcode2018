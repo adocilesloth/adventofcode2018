{
 "cells": [
  {
   "cell_type": "code",
   "execution_count": 1,
   "metadata": {},
   "outputs": [],
   "source": [
    "import numpy as np"
   ]
  },
  {
   "cell_type": "code",
   "execution_count": 2,
   "metadata": {},
   "outputs": [],
   "source": [
    "test = [['+1', '-2', '+3', '+1'],\n",
    "        ['+1', '+1', '+1'],\n",
    "        ['+1', '+1', '-2'],\n",
    "        ['-1', '-2', '-3']]\n",
    "\n",
    "data = np.genfromtxt('day01_input.txt', dtype=str, delimiter='\\n')"
   ]
  },
  {
   "cell_type": "code",
   "execution_count": 3,
   "metadata": {},
   "outputs": [
    {
     "name": "stdout",
     "output_type": "stream",
     "text": [
      "3\n",
      "3\n",
      "0\n",
      "-6\n",
      "Part 1 result: 510\n"
     ]
    }
   ],
   "source": [
    "def freq_drift(data):\n",
    "    drift = 0\n",
    "    for line in data:\n",
    "        if line[0] == '+':\n",
    "            drift += int(line[1:])\n",
    "        elif line[0] == '-':\n",
    "            drift -= int(line[1:])\n",
    "        else:\n",
    "            print('?', line)\n",
    "            break\n",
    "    return drift\n",
    "\n",
    "for t in test:\n",
    "    print(freq_drift(t))\n",
    "print('Part 1 result:', freq_drift(data))"
   ]
  },
  {
   "cell_type": "code",
   "execution_count": 4,
   "metadata": {},
   "outputs": [
    {
     "name": "stdout",
     "output_type": "stream",
     "text": [
      "2\n",
      "0\n",
      "10\n",
      "5\n",
      "14\n",
      "Part 2 result: 69074\n"
     ]
    }
   ],
   "source": [
    "test = [['+1', '-2', '+3', '+1'],\n",
    "        ['+1', '-1'],\n",
    "        ['+3', '+3', '+4', '-2', '-4'],\n",
    "        ['-6', '+3', '+8', '+5', '-6'],\n",
    "        ['+7', '+7', '-2', '-7', '-4']]\n",
    "\n",
    "def double_freq(data):\n",
    "    visited = [0]\n",
    "    drift = 0\n",
    "    i = 0\n",
    "    while True:\n",
    "        if data[i][0] == '+':\n",
    "            drift += int(data[i][1:])\n",
    "        elif data[i][0] == '-':\n",
    "            drift -= int(data[i][1:])\n",
    "        if drift in visited:\n",
    "            return drift\n",
    "        visited.append(drift)\n",
    "        \n",
    "        i += 1\n",
    "        if i == len(data):\n",
    "            i = 0\n",
    "            \n",
    "for t in test:\n",
    "    print(double_freq(t))\n",
    "print('Part 2 result:', double_freq(data))"
   ]
  },
  {
   "cell_type": "code",
   "execution_count": null,
   "metadata": {},
   "outputs": [],
   "source": []
  }
 ],
 "metadata": {
  "kernelspec": {
   "display_name": "Python 3",
   "language": "python",
   "name": "python3"
  },
  "language_info": {
   "codemirror_mode": {
    "name": "ipython",
    "version": 3
   },
   "file_extension": ".py",
   "mimetype": "text/x-python",
   "name": "python",
   "nbconvert_exporter": "python",
   "pygments_lexer": "ipython3",
   "version": "3.7.4"
  }
 },
 "nbformat": 4,
 "nbformat_minor": 2
}
