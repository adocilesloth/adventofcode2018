{
 "cells": [
  {
   "cell_type": "code",
   "execution_count": 1,
   "metadata": {},
   "outputs": [],
   "source": [
    "import numpy as np"
   ]
  },
  {
   "cell_type": "code",
   "execution_count": 2,
   "metadata": {},
   "outputs": [],
   "source": [
    "test = ['abcdef',\n",
    "        'bababc',\n",
    "        'abbcde',\n",
    "        'abcccd',\n",
    "        'aabcdd',\n",
    "        'abcdee',\n",
    "        'ababab']\n",
    "\n",
    "data = np.genfromtxt('day02_input.txt', dtype=str, delimiter='\\n')"
   ]
  },
  {
   "cell_type": "code",
   "execution_count": 3,
   "metadata": {},
   "outputs": [
    {
     "name": "stdout",
     "output_type": "stream",
     "text": [
      "12\n",
      "Part 1 result: 5658\n"
     ]
    }
   ],
   "source": [
    "def checksum(data):\n",
    "    twice = 0\n",
    "    three = 0\n",
    "    \n",
    "    for line in data:\n",
    "        _, counts = np.unique(list(line), return_counts=True)\n",
    "        if 2 in counts:\n",
    "            twice += 1\n",
    "        if 3 in counts:\n",
    "            three += 1\n",
    "    return twice*three\n",
    "\n",
    "print(checksum(test))\n",
    "print('Part 1 result:', checksum(data))"
   ]
  },
  {
   "cell_type": "code",
   "execution_count": 4,
   "metadata": {},
   "outputs": [
    {
     "name": "stdout",
     "output_type": "stream",
     "text": [
      "fgij\n",
      "Part 1 result: nmgyjkpruszlbaqwficavxneo\n"
     ]
    }
   ],
   "source": [
    "test2 = ['abcde',\n",
    "         'fghij',\n",
    "         'klmno',\n",
    "         'pqrst',\n",
    "         'fguij',\n",
    "         'axcye',\n",
    "         'wvxyz']\n",
    "\n",
    "def common(data):\n",
    "    \n",
    "    for i in range(0, len(data[0])):\n",
    "        test = []\n",
    "        if i == 0:\n",
    "            for line in data:\n",
    "                test.append(line[1:])\n",
    "        elif i == len(data[0])-1:\n",
    "            for line in data:\n",
    "                test.append(line[:-1])\n",
    "        else:\n",
    "            for line in data:\n",
    "                test.append(line[:i]+line[i+1:])\n",
    "        uniq, counts = np.unique(test, return_counts=True)\n",
    "        if 2 in counts:\n",
    "            idx = np.where(counts == 2)[0]\n",
    "            return uniq[idx[0]]\n",
    "    return False\n",
    "\n",
    "print(common(test2))\n",
    "print('Part 1 result:', common(data))"
   ]
  },
  {
   "cell_type": "code",
   "execution_count": null,
   "metadata": {},
   "outputs": [],
   "source": []
  }
 ],
 "metadata": {
  "kernelspec": {
   "display_name": "Python 3",
   "language": "python",
   "name": "python3"
  },
  "language_info": {
   "codemirror_mode": {
    "name": "ipython",
    "version": 3
   },
   "file_extension": ".py",
   "mimetype": "text/x-python",
   "name": "python",
   "nbconvert_exporter": "python",
   "pygments_lexer": "ipython3",
   "version": "3.7.4"
  }
 },
 "nbformat": 4,
 "nbformat_minor": 2
}
