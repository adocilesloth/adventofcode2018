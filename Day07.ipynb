{
 "cells": [
  {
   "cell_type": "code",
   "execution_count": 1,
   "id": "adc7c424",
   "metadata": {},
   "outputs": [],
   "source": [
    "import numpy as np\n",
    "from collections import defaultdict"
   ]
  },
  {
   "cell_type": "code",
   "execution_count": 2,
   "id": "0e78f5dc",
   "metadata": {},
   "outputs": [],
   "source": [
    "test = ['Step C must be finished before step A can begin.',\n",
    "        'Step C must be finished before step F can begin.',\n",
    "        'Step A must be finished before step B can begin.',\n",
    "        'Step A must be finished before step D can begin.',\n",
    "        'Step B must be finished before step E can begin.',\n",
    "        'Step D must be finished before step E can begin.',\n",
    "        'Step F must be finished before step E can begin.']"
   ]
  },
  {
   "cell_type": "markdown",
   "id": "2c0721a3",
   "metadata": {},
   "source": [
    "# Part 1"
   ]
  },
  {
   "cell_type": "code",
   "execution_count": 3,
   "id": "2a87d731",
   "metadata": {},
   "outputs": [
    {
     "name": "stdout",
     "output_type": "stream",
     "text": [
      "CABDFE\n"
     ]
    }
   ],
   "source": [
    "def get_graph(data):\n",
    "    parents = defaultdict(list)\n",
    "    children = defaultdict(list)\n",
    "    \n",
    "    for line in data:\n",
    "        line = line.strip()\n",
    "        parent = line[len('Step ')]\n",
    "        child = line[-len('X can begin.')]\n",
    "        parents[parent].append(child)\n",
    "        children[child].append(parent)\n",
    "        \n",
    "    return parents, children\n",
    "\n",
    "def get_order(parents, children):\n",
    "    #Find start\n",
    "    keys = []\n",
    "    values = []\n",
    "    for key, value in parents.items():\n",
    "        keys.append(key)\n",
    "        values += value\n",
    "    values = np.unique(values).tolist()\n",
    "    \n",
    "    #print(keys)\n",
    "    #print(values)\n",
    "    \n",
    "    avaliable = list(set(keys) - set(values))\n",
    "    avaliable.sort()\n",
    "    #print(avaliable)\n",
    "    \n",
    "    order = ''\n",
    "    while len(avaliable):\n",
    "        node = avaliable.pop(0)\n",
    "        order += node\n",
    "        \n",
    "        for child in parents[node]:\n",
    "            okay = True\n",
    "            for progen in children[child]:\n",
    "                if progen not in order:\n",
    "                    okay = False\n",
    "                    break\n",
    "            if okay:\n",
    "                avaliable.append(child)\n",
    "            \n",
    "        avaliable.sort()\n",
    "        \n",
    "    return order\n",
    "\n",
    "def part1(data):\n",
    "    graph = get_graph(data)\n",
    "    order = get_order(*graph)\n",
    "    return order\n",
    "\n",
    "print(part1(test))"
   ]
  },
  {
   "cell_type": "code",
   "execution_count": 4,
   "id": "6d2695d7",
   "metadata": {},
   "outputs": [
    {
     "name": "stdout",
     "output_type": "stream",
     "text": [
      "Part 1 result: BFLNGIRUSJXEHKQPVTYOCZDWMA\n"
     ]
    }
   ],
   "source": [
    "with open('day07_input.txt', 'r') as f:\n",
    "    data = f.readlines()\n",
    "    f.close()\n",
    "    \n",
    "print('Part 1 result:', part1(data))"
   ]
  },
  {
   "cell_type": "markdown",
   "id": "87c4a08c",
   "metadata": {},
   "source": [
    "# Part 2"
   ]
  },
  {
   "cell_type": "code",
   "execution_count": 5,
   "id": "9302841f",
   "metadata": {},
   "outputs": [
    {
     "name": "stdout",
     "output_type": "stream",
     "text": [
      "CABFDE\n",
      "15\n"
     ]
    }
   ],
   "source": [
    "def char_to_int(char):\n",
    "    return ord(char)-64\n",
    "\n",
    "def timed_order(parents, children, num_workers, offset):\n",
    "    current_time = 0\n",
    "    worker_time = []\n",
    "    worker_node = []\n",
    "    for i in range(0, num_workers):\n",
    "        worker_time.append(0)\n",
    "        worker_node.append('')\n",
    "    worker_time = np.array(worker_time)\n",
    "    \n",
    "    keys = []\n",
    "    values = []\n",
    "    for key, value in parents.items():\n",
    "        keys.append(key)\n",
    "        values += value\n",
    "    values = np.unique(values).tolist()\n",
    "    \n",
    "    avaliable = list(set(keys) - set(values))\n",
    "    avaliable.sort()\n",
    "    \n",
    "    to_do = np.unique(keys+values)\n",
    "    \n",
    "    order = ''\n",
    "    while len(to_do):\n",
    "        can_work = np.where(worker_time == 0)[0]\n",
    "        node_done = []\n",
    "        \n",
    "        for cw in can_work:\n",
    "            node = worker_node[cw]\n",
    "            if node == '':\n",
    "                continue\n",
    "            node_done.append(node)\n",
    "            node_done.sort()\n",
    "            order += ''.join(node_done)\n",
    "            to_do = np.delete(to_do, np.where(to_do == node))\n",
    "            \n",
    "            for child in parents[node]:\n",
    "                okay = True\n",
    "                for progen in children[child]:\n",
    "                    if progen not in order:\n",
    "                        okay = False\n",
    "                        break\n",
    "                if okay and child not in order:\n",
    "                    avaliable.append(child)\n",
    "                    \n",
    "            worker_node[cw] = ''\n",
    "                    \n",
    "        avaliable = np.unique(avaliable).tolist()\n",
    "        avaliable.sort()\n",
    "        \n",
    "        for cw in can_work:\n",
    "            if len(avaliable) == 0:\n",
    "                break\n",
    "            node = avaliable.pop(0)\n",
    "            \n",
    "            worker_time[cw] = char_to_int(node)+offset\n",
    "            worker_node[cw] = node\n",
    "            \n",
    "        busy = np.where(worker_time != 0)[0]\n",
    "        if len(busy) != 0:\n",
    "            time = np.min(worker_time[busy])\n",
    "            worker_time[busy] -= time\n",
    "            current_time += time\n",
    "        \n",
    "    print(order)\n",
    "    \n",
    "    return current_time\n",
    "\n",
    "def part2(data, workers=2, offset=0):\n",
    "    graph = get_graph(data)\n",
    "    time = timed_order(*graph, workers, offset)\n",
    "    return time\n",
    "\n",
    "print(part2(test))"
   ]
  },
  {
   "cell_type": "code",
   "execution_count": 6,
   "id": "8f7e6479",
   "metadata": {},
   "outputs": [
    {
     "name": "stdout",
     "output_type": "stream",
     "text": [
      "BFUXLRESNHNQGIKPJYVOTCZDWMA\n",
      "Part 2 result: 880\n"
     ]
    }
   ],
   "source": [
    "print('Part 2 result:', part2(data, 5, 60))"
   ]
  },
  {
   "cell_type": "code",
   "execution_count": null,
   "id": "c6761535",
   "metadata": {},
   "outputs": [],
   "source": []
  }
 ],
 "metadata": {
  "kernelspec": {
   "display_name": "Python 3",
   "language": "python",
   "name": "python3"
  },
  "language_info": {
   "codemirror_mode": {
    "name": "ipython",
    "version": 3
   },
   "file_extension": ".py",
   "mimetype": "text/x-python",
   "name": "python",
   "nbconvert_exporter": "python",
   "pygments_lexer": "ipython3",
   "version": "3.9.12"
  }
 },
 "nbformat": 4,
 "nbformat_minor": 5
}
