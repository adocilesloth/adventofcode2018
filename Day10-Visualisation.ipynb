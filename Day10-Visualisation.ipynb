{
 "cells": [
  {
   "cell_type": "code",
   "execution_count": 1,
   "metadata": {},
   "outputs": [],
   "source": [
    "import numpy as np\n",
    "from copy import deepcopy\n",
    "\n",
    "from PIL import Image\n",
    "import imageio\n",
    "\n",
    "import matplotlib.pyplot as plt\n",
    "%matplotlib inline"
   ]
  },
  {
   "cell_type": "code",
   "execution_count": 2,
   "metadata": {},
   "outputs": [
    {
     "data": {
      "image/png": "[encoded data removed]",
      "text/plain": [
       "<Figure size 432x288 with 1 Axes>"
      ]
     },
     "metadata": {
      "needs_background": "light"
     },
     "output_type": "display_data"
    }
   ],
   "source": [
    "def get_lights(data):\n",
    "    positions = []\n",
    "    velocitys = []\n",
    "    for line in data:\n",
    "        line = line.strip()\n",
    "        start = line.find('<')\n",
    "        end = line.find('>')\n",
    "        part = line[start+1:end]\n",
    "        x, y = part.split(',')\n",
    "        positions.append([int(x), int(y)])\n",
    "        line = line[end+1:]\n",
    "        \n",
    "        start = line.find('<')\n",
    "        end = line.find('>')\n",
    "        part = line[start+1:end]\n",
    "        x, y = part.split(',')\n",
    "        velocitys.append([int(x), int(y)])\n",
    "        \n",
    "    positions = np.array(positions)\n",
    "    velocitys = np.array(velocitys)\n",
    "    \n",
    "    return positions, velocitys\n",
    "\n",
    "def run_lights_size(positions, velocitys, n):    \n",
    "    for i in range(1, n+1):\n",
    "        positions += velocitys\n",
    "        \n",
    "    min_x = np.min(positions[:,0])\n",
    "    max_x = np.max(positions[:,0])\n",
    "    min_y = np.min(positions[:,1])\n",
    "    max_y = np.max(positions[:,1])\n",
    "            \n",
    "    return min_x, max_x, min_y, max_y\n",
    "\n",
    "def run_lights_frames(positions, velocitys, n, min_x, max_x, min_y, max_y):\n",
    "    dx = max_x - min_x\n",
    "    dy = max_y - min_y\n",
    "    image = np.ones((2*dy,2*dx,3), dtype=int)*119\n",
    "    \n",
    "    for i in range(1, n+1):\n",
    "        for position in positions:\n",
    "            x = position[0]-min_x+int(dx/2)\n",
    "            y = position[1]-min_y+int(dy/2)\n",
    "            if x >= 0 and x < image.shape[1] and y >= 0 and y < image.shape[0]:\n",
    "                image[y,x] = np.array([119,119,119])\n",
    "            \n",
    "        positions += velocitys\n",
    "        \n",
    "        for position in positions:\n",
    "            x = position[0]-min_x+int(dx/2)\n",
    "            y = position[1]-min_y+int(dy/2)\n",
    "            if x >= 0 and x < image.shape[1] and y >= 0 and y < image.shape[0]:\n",
    "                image[y,x] = np.array([78,178,101])\n",
    "            \n",
    "        frame = Image.fromarray(image.astype('uint8'), mode='RGB')\n",
    "        frame = frame.resize((image.shape[0]*8,image.shape[1]*8), resample=Image.NEAREST)\n",
    "        frame.save('./Day10-Frames/day10_'+str(i).zfill(5)+'.png')\n",
    "        \n",
    "    plt.imshow(image)\n",
    "    plt.show()\n",
    "    \n",
    "def make_frames():\n",
    "    with open('day10_input.txt', 'r') as f:\n",
    "        data = f.readlines()\n",
    "        f.close()\n",
    "        \n",
    "    positions, velocitys = get_lights(data)\n",
    "    n = 10391\n",
    "    min_x, max_x, min_y, max_y = run_lights_size(deepcopy(positions), velocitys, n)\n",
    "    run_lights_frames(positions, velocitys, n, min_x, max_x, min_y, max_y)\n",
    "    \n",
    "make_frames()"
   ]
  },
  {
   "cell_type": "code",
   "execution_count": 3,
   "metadata": {},
   "outputs": [],
   "source": [
    "from shutil import copy\n",
    "for t in range(10391+1, 10391+241):\n",
    "    copy('./Day10-Frames/day10_10391.png', './Day10-Frames/day10_'+str(t).zfill(5)+'.png')"
   ]
  },
  {
   "cell_type": "code",
   "execution_count": null,
   "metadata": {},
   "outputs": [],
   "source": []
  }
 ],
 "metadata": {
  "kernelspec": {
   "display_name": "Python 3",
   "language": "python",
   "name": "python3"
  },
  "language_info": {
   "codemirror_mode": {
    "name": "ipython",
    "version": 3
   },
   "file_extension": ".py",
   "mimetype": "text/x-python",
   "name": "python",
   "nbconvert_exporter": "python",
   "pygments_lexer": "ipython3",
   "version": "3.7.4"
  }
 },
 "nbformat": 4,
 "nbformat_minor": 2
}
