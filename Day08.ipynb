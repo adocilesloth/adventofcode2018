{
 "cells": [
  {
   "cell_type": "code",
   "execution_count": 1,
   "id": "f1e6dbe7",
   "metadata": {},
   "outputs": [],
   "source": [
    "import numpy as np\n",
    "from copy import deepcopy"
   ]
  },
  {
   "cell_type": "code",
   "execution_count": 2,
   "id": "8d08c076",
   "metadata": {},
   "outputs": [],
   "source": [
    "test = '2 3 0 3 10 11 12 1 1 0 1 99 2 1 1 2'"
   ]
  },
  {
   "cell_type": "code",
   "execution_count": 3,
   "id": "b2d7717f",
   "metadata": {},
   "outputs": [
    {
     "name": "stdout",
     "output_type": "stream",
     "text": [
      "Part 1 result: 138\n",
      "Part 2 result: 66\n"
     ]
    }
   ],
   "source": [
    "def get_node(data, nodes, count):\n",
    "    num_child = data.pop(0)\n",
    "    num_meta = data.pop(0)\n",
    "    \n",
    "    this_node = deepcopy(count)\n",
    "    nodes[this_node] = {'child':[],'meta':[]}\n",
    "    \n",
    "    for nm in range(0, num_child):\n",
    "        nodes[this_node]['child'].append(count+1)\n",
    "        data, nodes, count = get_node(data, nodes, count+1)\n",
    "    \n",
    "    for nm in range(0, num_meta):\n",
    "        nodes[this_node]['meta'].append(data.pop(0))\n",
    "    \n",
    "    return data, nodes, count\n",
    "\n",
    "def node_score(nodes, node):\n",
    "    score = 0\n",
    "    \n",
    "    if len(nodes[node]['child']) == 0:\n",
    "        score = np.sum(nodes[node]['meta'])\n",
    "    else:\n",
    "        for child_idx in nodes[node]['meta']:\n",
    "            if child_idx == 0:\n",
    "                continue\n",
    "            elif child_idx > len(nodes[node]['child']):\n",
    "                continue\n",
    "            child_idx -=1\n",
    "            score += node_score(nodes, nodes[node]['child'][child_idx])\n",
    "    \n",
    "    return score\n",
    "\n",
    "def run(data):\n",
    "    info = data.strip().split()\n",
    "    info = np.array(info).astype(int).tolist()\n",
    "    \n",
    "    nodes = {}\n",
    "    count = 0\n",
    "    info, nodes, count = get_node(info, nodes, count)\n",
    "    \n",
    "    total_meta = 0\n",
    "    for key in nodes:\n",
    "        for m in nodes[key]['meta']:\n",
    "            total_meta += m\n",
    "            \n",
    "    print('Part 1 result:', total_meta)\n",
    "            \n",
    "    score = node_score(nodes, 0)\n",
    "    print('Part 2 result:', score)\n",
    "            \n",
    "    return \n",
    "\n",
    "run(test)"
   ]
  },
  {
   "cell_type": "code",
   "execution_count": 4,
   "id": "22c72292",
   "metadata": {},
   "outputs": [
    {
     "name": "stdout",
     "output_type": "stream",
     "text": [
      "Part 1 result: 37905\n",
      "Part 2 result: 33891\n"
     ]
    }
   ],
   "source": [
    "with open('day08_input.txt', 'r') as f:\n",
    "    data = f.read()\n",
    "    f.close()\n",
    "    \n",
    "run(data)"
   ]
  },
  {
   "cell_type": "code",
   "execution_count": null,
   "id": "60ecfb78",
   "metadata": {},
   "outputs": [],
   "source": []
  }
 ],
 "metadata": {
  "kernelspec": {
   "display_name": "Python 3",
   "language": "python",
   "name": "python3"
  },
  "language_info": {
   "codemirror_mode": {
    "name": "ipython",
    "version": 3
   },
   "file_extension": ".py",
   "mimetype": "text/x-python",
   "name": "python",
   "nbconvert_exporter": "python",
   "pygments_lexer": "ipython3",
   "version": "3.9.12"
  }
 },
 "nbformat": 4,
 "nbformat_minor": 5
}
