{
 "cells": [
  {
   "cell_type": "code",
   "execution_count": 1,
   "id": "2bd34770",
   "metadata": {},
   "outputs": [],
   "source": [
    "import numpy as np\n",
    "from collections import deque, defaultdict"
   ]
  },
  {
   "cell_type": "code",
   "execution_count": 2,
   "id": "7b8aa145",
   "metadata": {},
   "outputs": [],
   "source": [
    "test = ['1, 1',\n",
    "        '1, 6',\n",
    "        '8, 3',\n",
    "        '3, 4',\n",
    "        '5, 5',\n",
    "        '8, 9']"
   ]
  },
  {
   "cell_type": "markdown",
   "id": "639f6080",
   "metadata": {},
   "source": [
    "# Part 1"
   ]
  },
  {
   "cell_type": "code",
   "execution_count": 3,
   "id": "509bd118",
   "metadata": {},
   "outputs": [
    {
     "name": "stdout",
     "output_type": "stream",
     "text": [
      "17\n"
     ]
    }
   ],
   "source": [
    "def get_coords(data):\n",
    "    coords = []\n",
    "    for line in data:\n",
    "        line.strip()\n",
    "        x, y = line.split(', ')\n",
    "        coords.append([int(x), int(y)])\n",
    "    coords = np.array(coords)\n",
    "    return coords\n",
    "\n",
    "def not_in_graph(lims, pos):\n",
    "    if pos[0] < lims[0][0] or pos[0] > lims[0][1]:\n",
    "        return True\n",
    "    if pos[1] < lims[1][0] or pos[1] > lims[1][1]:\n",
    "        return True\n",
    "    return False\n",
    "\n",
    "def BFS(lims, coords, all_dist, all_close):\n",
    "    dxdy = [[-1,0],[0,1],[1,0],[0,-1]]\n",
    "    \n",
    "    for i, coord in enumerate(coords):\n",
    "        #print(i, coord)\n",
    "        start = (coord[0], coord[1])\n",
    "        queue = deque([start])\n",
    "        dist = {start:0}\n",
    "\n",
    "        while len(queue):\n",
    "            cur_pos = queue.popleft()\n",
    "            #print(cur_pos)\n",
    "            cur_dst = dist[cur_pos]\n",
    "\n",
    "            for xy in dxdy:\n",
    "                nxt_pos = (cur_pos[0]+xy[0], cur_pos[1]+xy[1])\n",
    "                #print('\\t',nxt_pos)\n",
    "                if not_in_graph(lims, nxt_pos):\n",
    "                    continue\n",
    "\n",
    "                nxt_dst = cur_dst+1\n",
    "                if nxt_pos in dist.keys():\n",
    "                    if dist[nxt_pos] > nxt_dst:\n",
    "                        dist[nxt_pos] = nxt_dst\n",
    "                else:\n",
    "                    dist[nxt_pos] = nxt_dst\n",
    "\n",
    "                if all_dist[nxt_pos] > nxt_dst:\n",
    "                    all_dist[nxt_pos] = nxt_dst\n",
    "                    all_close[nxt_pos] = [i]\n",
    "                    queue.append(nxt_pos)\n",
    "                \n",
    "                elif all_dist[nxt_pos] == nxt_dst and i not in all_close[nxt_pos]:\n",
    "                    all_close[nxt_pos].append(i)\n",
    "                    queue.append(nxt_pos)\n",
    "                    \n",
    "    return all_close\n",
    "\n",
    "def count_spaces(all_close, counts, lims):\n",
    "    \n",
    "    for key, value in all_close.items():\n",
    "        if len(value) == 1:\n",
    "            counts[value[0]] += 1\n",
    "    \n",
    "    return counts\n",
    "        \n",
    "def max_count(counts, counts2):\n",
    "    possible = []\n",
    "    for key in counts:\n",
    "        if counts[key] == counts2[key]:\n",
    "            possible.append(counts[key])\n",
    "    return max(possible)\n",
    "\n",
    "def part1(data):\n",
    "    coords = get_coords(data)\n",
    "    #print(len(coords))\n",
    "    \n",
    "    dx = (np.max(coords[:,0]) - np.min(coords[:,0]))\n",
    "    dy = (np.max(coords[:,1]) - np.min(coords[:,1]))\n",
    "    lims = [[np.min(coords[:,0])-dx, np.max(coords[:,0])+dx],[np.min(coords[:,1])-dy, np.max(coords[:,1])+dy]]\n",
    "    \n",
    "    all_dist = defaultdict(lambda:10000)\n",
    "    all_close = defaultdict(list)\n",
    "    all_close = BFS(lims, coords, all_dist, all_close)\n",
    "    counts = defaultdict(int)\n",
    "    counts = count_spaces(all_close, counts, lims)\n",
    "    \n",
    "    for i in range(0, len(lims)):\n",
    "        lims[i][0]-=1\n",
    "        lims[i][1]+=1\n",
    "            \n",
    "    all_dist2 = defaultdict(lambda:10000)\n",
    "    all_close2 = defaultdict(list)\n",
    "    all_close2 = BFS(lims, coords, all_dist2, all_close2)\n",
    "    counts2 = defaultdict(int)\n",
    "    counts2 = count_spaces(all_close2, counts2, lims)\n",
    "    \n",
    "    return max_count(counts, counts2)\n",
    "\n",
    "print(part1(test))"
   ]
  },
  {
   "cell_type": "code",
   "execution_count": 4,
   "id": "b4ae81ad",
   "metadata": {
    "scrolled": true
   },
   "outputs": [
    {
     "name": "stdout",
     "output_type": "stream",
     "text": [
      "Part 1 result: 4143\n"
     ]
    }
   ],
   "source": [
    "with open('day06_input.txt', 'r') as f:\n",
    "    data = f.readlines()\n",
    "    f.close()\n",
    "    \n",
    "print('Part 1 result:', part1(data))"
   ]
  },
  {
   "cell_type": "markdown",
   "id": "bcf412b3",
   "metadata": {},
   "source": [
    "# Part 2"
   ]
  },
  {
   "cell_type": "code",
   "execution_count": 5,
   "id": "825611cb",
   "metadata": {},
   "outputs": [
    {
     "name": "stdout",
     "output_type": "stream",
     "text": [
      "16\n"
     ]
    }
   ],
   "source": [
    "def part2(data, man_limit=10000):\n",
    "    coords = get_coords(data)\n",
    "    \n",
    "    in_range = 0\n",
    "    for x in range(0, np.max(coords[:,0])+1):\n",
    "        for y in range(0, np.max(coords[:,1])+1):\n",
    "            total_distance = 0\n",
    "            for coord in coords:\n",
    "                total_distance += abs(x-coord[0])+abs(y-coord[1])\n",
    "            if total_distance < man_limit:\n",
    "                in_range += 1\n",
    "    return in_range\n",
    "\n",
    "print(part2(test, 32))"
   ]
  },
  {
   "cell_type": "code",
   "execution_count": 6,
   "id": "cb208773",
   "metadata": {},
   "outputs": [
    {
     "name": "stdout",
     "output_type": "stream",
     "text": [
      "Part 2 result: 35039\n"
     ]
    }
   ],
   "source": [
    "print('Part 2 result:', part2(data))"
   ]
  },
  {
   "cell_type": "code",
   "execution_count": null,
   "id": "6f93284d",
   "metadata": {},
   "outputs": [],
   "source": []
  }
 ],
 "metadata": {
  "kernelspec": {
   "display_name": "Python 3",
   "language": "python",
   "name": "python3"
  },
  "language_info": {
   "codemirror_mode": {
    "name": "ipython",
    "version": 3
   },
   "file_extension": ".py",
   "mimetype": "text/x-python",
   "name": "python",
   "nbconvert_exporter": "python",
   "pygments_lexer": "ipython3",
   "version": "3.9.12"
  }
 },
 "nbformat": 4,
 "nbformat_minor": 5
}
